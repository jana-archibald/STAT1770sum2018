{
 "cells": [
  {
   "cell_type": "code",
   "execution_count": null,
   "metadata": {},
   "outputs": [],
   "source": [
    "download.file(\"http://www.openintro.org/stat/data/piracy.RData\", destfile = \"piracy.RData\")\n",
    "load(\"piracy.RData\")\n",
    "\n",
    "normalplot<-function(m,sd,region=0){\n",
    "  x<-seq(m-3.5*sd,m+3.5*sd,length=1000)\n",
    "  y<-dnorm(x,m,sd)\n",
    "  plot(x,y,type=\"l\",xlab=\"\",ylab=\"\")\n",
    "  z<-x[x>region[1]]\n",
    "  z<- z[z<region[2]]\n",
    "  polygon(c(region[1],z,region[2]),c(0,dnorm(z,m,sd),0),col=\"gray\") }\n"
   ]
  },
  {
   "cell_type": "markdown",
   "metadata": {},
   "source": [
    "The first half of the lab exam involves the data set `piracy` involving data from\n",
    "US Senators and Representatives related  to anti-piracy legislation from 2011.\n",
    "\n",
    "\n",
    "We will be interested in the following variables:  \n",
    "\n",
    "\n",
    "`party` : Party affiliation as democrat (D), Republican (R), or Independent (I).  \n",
    "\n",
    "`years`: Number of years of service in Congress. \n",
    "\n",
    "\n",
    "`stance`: Degree of support for PIPA/SOPA with levels: Leaning No, No, Undecided, Unknown, Yes.\n",
    "\n",
    "`chamber`: Whether the legislator is a member of either the house or senate.\n",
    "\n",
    "`money_pro`: Amount of money in dollars contributed to the legislator's campaign in 2010 by groups generally thought to be \n",
    "supportive of the legislations.\n",
    "\n"
   ]
  },
  {
   "cell_type": "markdown",
   "metadata": {},
   "source": [
    "\n",
    "\n",
    "## 1  Histograms\n",
    "\n",
    "You must produce **three** histograms for `years`.  \n",
    "- vary the number of bins\n",
    "- at least one of the two histograms must properly display the shape of the datas distribution.\n",
    "- state which one you think is a good dispay of the data.\n"
   ]
  },
  {
   "cell_type": "code",
   "execution_count": null,
   "metadata": {},
   "outputs": [],
   "source": []
  },
  {
   "cell_type": "code",
   "execution_count": null,
   "metadata": {},
   "outputs": [],
   "source": []
  },
  {
   "cell_type": "code",
   "execution_count": null,
   "metadata": {},
   "outputs": [],
   "source": []
  },
  {
   "cell_type": "markdown",
   "metadata": {},
   "source": [
    "## 2 Boxplot\n",
    "\n",
    "Produce a boxplot for the `years` data."
   ]
  },
  {
   "cell_type": "code",
   "execution_count": null,
   "metadata": {},
   "outputs": [],
   "source": []
  },
  {
   "cell_type": "markdown",
   "metadata": {},
   "source": [
    "\n",
    "\n",
    "## 3 Scatter plot\n",
    "\n",
    "Produce a scatter plot comparing `years` and `money_pro`.\n",
    "\n",
    "Treat `year` as the independent variable and put it on the horizontal/x-axis."
   ]
  },
  {
   "cell_type": "code",
   "execution_count": null,
   "metadata": {},
   "outputs": [],
   "source": []
  },
  {
   "cell_type": "markdown",
   "metadata": {},
   "source": [
    "## 4 Mosaic Plot\n",
    "\n",
    "Produce a mosaic plot comparing `stance` and `party`"
   ]
  },
  {
   "cell_type": "code",
   "execution_count": null,
   "metadata": {},
   "outputs": [],
   "source": []
  },
  {
   "cell_type": "markdown",
   "metadata": {},
   "source": [
    "## 5 Side by Side Box plot\n",
    "\n",
    "Produce side by side box plots comparing `years` and `party`"
   ]
  },
  {
   "cell_type": "code",
   "execution_count": null,
   "metadata": {},
   "outputs": [],
   "source": []
  },
  {
   "cell_type": "markdown",
   "metadata": {},
   "source": [
    "# 6 Statistical Summaries\n",
    "\n",
    "Compute the following summaries for the variable `years`\n",
    "\n",
    "---\n",
    "a) mean="
   ]
  },
  {
   "cell_type": "code",
   "execution_count": null,
   "metadata": {},
   "outputs": [],
   "source": []
  },
  {
   "cell_type": "markdown",
   "metadata": {},
   "source": [
    "b) standard deviation ="
   ]
  },
  {
   "cell_type": "code",
   "execution_count": null,
   "metadata": {},
   "outputs": [],
   "source": []
  },
  {
   "cell_type": "markdown",
   "metadata": {},
   "source": [
    "c) median="
   ]
  },
  {
   "cell_type": "code",
   "execution_count": null,
   "metadata": {},
   "outputs": [],
   "source": []
  },
  {
   "cell_type": "markdown",
   "metadata": {},
   "source": [
    "d) maximum = "
   ]
  },
  {
   "cell_type": "code",
   "execution_count": null,
   "metadata": {},
   "outputs": [],
   "source": []
  },
  {
   "cell_type": "markdown",
   "metadata": {},
   "source": [
    "## 7 Tables\n",
    "\n",
    "Compute a frequency/contingency table for the `chamber` of the instructors split by `party`."
   ]
  },
  {
   "cell_type": "code",
   "execution_count": null,
   "metadata": {},
   "outputs": [],
   "source": []
  },
  {
   "cell_type": "markdown",
   "metadata": {},
   "source": [
    "## 8 \n",
    "\n",
    "How many Republicans (R)  have served for less than 10 years."
   ]
  },
  {
   "cell_type": "code",
   "execution_count": null,
   "metadata": {},
   "outputs": [],
   "source": []
  },
  {
   "cell_type": "code",
   "execution_count": null,
   "metadata": {},
   "outputs": [],
   "source": []
  },
  {
   "cell_type": "markdown",
   "metadata": {},
   "source": [
    "# Probabilities\n",
    "\n",
    "## 9 \n",
    "\n",
    "35% of adult Canadians have a university degree.  In a random sample of 25 adult canadians what is the probability that...\n",
    "\n",
    "\n",
    "a)  ...exactly 10 have a university degree?\n",
    "\n"
   ]
  },
  {
   "cell_type": "code",
   "execution_count": null,
   "metadata": {},
   "outputs": [],
   "source": []
  },
  {
   "cell_type": "markdown",
   "metadata": {},
   "source": [
    "b) ... more than 9 have a university degree?"
   ]
  },
  {
   "cell_type": "code",
   "execution_count": null,
   "metadata": {},
   "outputs": [],
   "source": []
  },
  {
   "cell_type": "code",
   "execution_count": null,
   "metadata": {},
   "outputs": [],
   "source": []
  },
  {
   "cell_type": "markdown",
   "metadata": {},
   "source": [
    "## 10 \n",
    "The distribution of strawberry weights (measured in grams) is approximately normal with a mean of 10.4 and a standard deviation of 1.9.\n",
    "\n",
    "a) What is the probability that a randomly selected strawberry weighs more than 11g?"
   ]
  },
  {
   "cell_type": "code",
   "execution_count": null,
   "metadata": {},
   "outputs": [],
   "source": []
  },
  {
   "cell_type": "code",
   "execution_count": null,
   "metadata": {},
   "outputs": [],
   "source": []
  },
  {
   "cell_type": "markdown",
   "metadata": {},
   "source": [
    "b)  What is the cut off for the largest 15% of the strawberries.  \n",
    "\n",
    "(Fill in the blank, 15% of strawberries weigh more than ___)"
   ]
  },
  {
   "cell_type": "code",
   "execution_count": null,
   "metadata": {},
   "outputs": [],
   "source": []
  },
  {
   "cell_type": "code",
   "execution_count": null,
   "metadata": {},
   "outputs": [],
   "source": []
  },
  {
   "cell_type": "markdown",
   "metadata": {},
   "source": [
    "d)  If I take a random sample of 10 strawberries, what is the probability that the average weight of my sample is less than 9g?\n",
    "\n"
   ]
  },
  {
   "cell_type": "code",
   "execution_count": null,
   "metadata": {},
   "outputs": [],
   "source": []
  },
  {
   "cell_type": "code",
   "execution_count": null,
   "metadata": {},
   "outputs": [],
   "source": []
  },
  {
   "cell_type": "code",
   "execution_count": null,
   "metadata": {},
   "outputs": [],
   "source": []
  }
 ],
 "metadata": {
  "kernelspec": {
   "display_name": "R",
   "language": "R",
   "name": "ir"
  },
  "language_info": {
   "codemirror_mode": "r",
   "file_extension": ".r",
   "mimetype": "text/x-r-source",
   "name": "R",
   "pygments_lexer": "r",
   "version": "3.5.1"
  }
 },
 "nbformat": 4,
 "nbformat_minor": 2
}
